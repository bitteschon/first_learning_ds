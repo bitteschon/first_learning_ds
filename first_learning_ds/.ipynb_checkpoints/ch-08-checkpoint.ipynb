{
 "cells": [
  {
   "cell_type": "markdown",
   "metadata": {},
   "source": [
    "# chapter 8. 머신러닝과 분류"
   ]
  },
  {
   "cell_type": "markdown",
   "metadata": {},
   "source": [
    "## 8.1 분류기란?\n",
    "\n",
    "- 분류기 사용 \n",
    "    1. 분류기 학습\n",
    "        - 학습 데이터를 이용해 입력/출력(라벨) 관계를 파악\n",
    "    2. 학습이 끝난 분류기로 새로운 입력 데이터를 분류\n",
    "        - 분류 : 입력 데이터에 새로운 라벨을 붙이거나 특정값을 예측\n",
    "        \n",
    "- 분류기는 새로운 데이터를 분류하는 것이 목적\n",
    "    - ex. 인터넷에서 사용자에게 어떤 광고를 보여줄지 결정하는 경우\n",
    "        - 입력 데이터 : 사용자, 출력/예측값 : 적절한 광고\n",
    "    - ex. 신용카드 해외 결제 자동 연락\n",
    "        - 입력 데이터 : 카드사용 내역, 출력/예측값 : 해외 사용 판단후 알림"
   ]
  },
  {
   "cell_type": "markdown",
   "metadata": {},
   "source": [
    "## 8.2 현실적인 고려사항\n",
    "- 머신러닝은 정확하게 레이블된 데이터를 이용해 어떤 일이 일어날지 예측하도록 학습\n",
    "    - 현실상황에서 그러한 데이터를 구하기 어려운 경우가 빈번하다.\n",
    "        - ex. 사기 탐지 데이터\n",
    "            - 대부분은 정상 거래 표본, 아주 일부만 사기 거래\n",
    "            - 심지어 정상거래데이터 또한 아무 레이블이 되어있지 않은 데이터이고, 일부 사기거래 포함\n",
    "            - 즉, 정상 거래와 사기 거래의 데이터 비율이 잘 맞지 않고 레이블이 부정확하다.\n",
    "        - '사기'를 정의하는 것도 쉽지 않다.\n",
    "            - 이 편지는 영국에서.. > 사기, 비아그라 판매(진실) 메일은 사기인가?\n",
    "                - 애매한 경우, 학습 데이터에서 아예 제외\n",
    "        - ex. 고객의 충성도 분석 작업\n",
    "            - 데이터를 확인해도, 고객이탈 근거(서비스 불만vs서비스 필요없어짐)를 확인할 수 없다.\n",
    "                - (실무) 1. 몇가지 특징으로 분류\n",
    "                    - '충성도가 높은것이 확실' : 학습에 사용\n",
    "                    - '충성도가 낮은것이 확실' : 학습에 사용\n",
    "                    - '나머지' : 추후 학습에서 빼버림\n",
    "                - (실무) 2. 추후 '나머지'데이터를 분류기에 입력\n",
    "                    - 나머지 중에서도 상대적으로 충성도가 낮아보이던 고객 역시 충성도가 낮다고 분류\n",
    "- 특징값 추출이 매우 중요하다! (제대로 된 특징값을 사용하지 않으면 절대 좋은 결과를 얻을 수 없다.)\n",
    "    - 데이터에 대한 이해\n",
    "    - 정확한 특징값 사용"
   ]
  },
  {
   "cell_type": "markdown",
   "metadata": {},
   "source": [
    "## 8.3 이진 분류와 다범주 분류\n",
    "\n",
    "- 대부분 이진분류\n",
    "- 다범주 분류의 경우, 범주가 k개라면 각 범주별로 총 k번 학습한다."
   ]
  },
  {
   "cell_type": "markdown",
   "metadata": {},
   "source": [
    "## 8.4 예제 코드\n",
    "- 아이리스 데이터셋\n",
    "- 분류기 몇개로 virsinica vs others 구분\n",
    "- 학습 결과는 ROC 곡선으로 시각화"
   ]
  },
  {
   "cell_type": "code",
   "execution_count": 4,
   "metadata": {},
   "outputs": [],
   "source": [
    "# 아이리스 데이터셋 불러오기\n",
    "import matplotlib\n",
    "matplotlib.rc('font', family=\"NanumBarunGothicOTF\")  \n",
    "%matplotlib inline\n",
    "import pandas as pd\n",
    "from matplotlib import pyplot as plt\n",
    "import sklearn.datasets\n",
    "\n",
    "def get_iris_df():\n",
    "    ds = sklearn.datasets.load_iris()\n",
    "    df = pd.DataFrame(ds['data'], columns=ds['feature_names'])\n",
    "    code_species_map = dict(zip(\n",
    "        range(3), ds['target_names']))\n",
    "    df['species'] = [code_species_map[c] for c in ds['target']]\n",
    "    return df\n",
    "\n",
    "df = get_iris_df()\n",
    "df_iris = df\n"
   ]
  },
  {
   "cell_type": "code",
   "execution_count": 7,
   "metadata": {},
   "outputs": [
    {
     "name": "stderr",
     "output_type": "stream",
     "text": [
      "/home/bitteschon/study/first_learning_ds/venv-first-learning/lib/python3.6/site-packages/sklearn/linear_model/logistic.py:432: FutureWarning: Default solver will be changed to 'lbfgs' in 0.22. Specify a solver to silence this warning.\n",
      "  FutureWarning)\n"
     ]
    },
    {
     "data": {
      "image/png": "[encoded data removed]",
      "text/plain": [
       "<Figure size 432x288 with 1 Axes>"
      ]
     },
     "metadata": {
      "needs_background": "light"
     },
     "output_type": "display_data"
    }
   ],
   "source": [
    "from matplotlib import pyplot as plt\n",
    "import sklearn\n",
    "from sklearn.metrics import roc_curve, auc\n",
    "from sklearn.model_selection import train_test_split\n",
    "from sklearn.linear_model import LogisticRegression\n",
    "from sklearn.tree import DecisionTreeClassifier\n",
    "from sklearn.ensemble import RandomForestClassifier\n",
    "from sklearn.naive_bayes import GaussianNB\n",
    "\n",
    "# 분류기 이름 -> (선 스타일, 분류기 인스턴스)\n",
    "CLASS_MAP = {\n",
    "    'logistic regression': ('-', LogisticRegression()),\n",
    "    'Naive Bayes' : ('--', GaussianNB()),\n",
    "    'Decision Tree' : ('.-', DecisionTreeClassifier(max_depth=5)),\n",
    "    'Random Forest' : (':', RandomForestClassifier(max_depth=5, n_estimators=10, max_features=1)),    \n",
    "}\n",
    "\n",
    "# DataFrame Row를 train/test_set으로 나누기\n",
    "X, Y = df[df.columns[:3]], (df['species']=='virginica')\n",
    "X_train, X_test, Y_train, Y_test = train_test_split(X, Y, test_size=0.8)\n",
    "\n",
    "for name, (line_fmt, model) in CLASS_MAP.items():\n",
    "    model.fit(X_train, Y_train)\n",
    "    # 열마다 True/False 예측값을 저장한다.\n",
    "    preds = model.predict_proba(X_test) # 모양 : (120,2)\n",
    "    pred = pd.Series(preds[:,1])\n",
    "    fpr, tpr, thresholds = roc_curve(Y_test, pred)\n",
    "    auc_score = auc(fpr, tpr)\n",
    "    label = '%s: auc= %f' % (name, auc_score)\n",
    "    plt.plot(fpr, tpr, line_fmt, linewidth=5, label=label)\n",
    "    \n",
    "plt.legend(loc=\"lower right\")\n",
    "plt.title('')\n",
    "    \n",
    "plt.plot([0,1],[0,1], 'k--') # x=y line. Visual aid\n",
    "plt.xlim([0.0, 1.0])\n",
    "plt.ylim([0.0, 1.05])\n",
    "plt.xlabel('FP-False Positive')\n",
    "plt.ylabel('TP-True Positive')\n",
    "plt.show()\n"
   ]
  },
  {
   "cell_type": "code",
   "execution_count": null,
   "metadata": {},
   "outputs": [],
   "source": []
  }
 ],
 "metadata": {
  "kernelspec": {
   "display_name": "first-learning",
   "language": "python",
   "name": "venv-first-learning"
  },
  "language_info": {
   "codemirror_mode": {
    "name": "ipython",
    "version": 3
   },
   "file_extension": ".py",
   "mimetype": "text/x-python",
   "name": "python",
   "nbconvert_exporter": "python",
   "pygments_lexer": "ipython3",
   "version": "3.6.8"
  }
 },
 "nbformat": 4,
 "nbformat_minor": 2
}

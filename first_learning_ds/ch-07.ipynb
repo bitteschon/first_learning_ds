{
 "cells": [
  {
   "cell_type": "markdown",
   "metadata": {},
   "source": [
    "# chapter 7\n"
   ]
  },
  {
   "cell_type": "code",
   "execution_count": null,
   "metadata": {},
   "outputs": [],
   "source": []
  },
  {
   "cell_type": "markdown",
   "metadata": {},
   "source": [
    "## 7.1 일반 특징값"
   ]
  },
  {
   "cell_type": "code",
   "execution_count": null,
   "metadata": {},
   "outputs": [],
   "source": []
  },
  {
   "cell_type": "markdown",
   "metadata": {},
   "source": [
    "### 7.1.1 is_null\n",
    "- 특정 데이터의 존재 유무를 간단한 특징값으로 사용할 수 있다.\n",
    "- 특정 데이터값이 결측되어있는 경우\n"
   ]
  },
  {
   "cell_type": "markdown",
   "metadata": {},
   "source": [
    "### 7.1.2 모조 변수\n",
    "- categorical feature(범주형 변수)는 특정 값만 가질 수 있다. \n",
    "    - 원핫 인코딩\n",
    "    - 레이블 인코딩\n",
    "    \n",
    "- 모조변수 사용시 유의사항\n",
    "    - category가 불필요하게 많은 경우엔 발생 빈도를 기준으로 일부 범주만 모조 변수화한다.\n",
    "    - train_set에는 없지만, test_set에 는 있는지 확인. \n",
    "        - 모델이 처음 보는 범주가 test_set에서 나올 경우 어떻게 처리할 지 미리 정해두어야 한다.\n",
    "            - alldata = test + train  "
   ]
  },
  {
   "cell_type": "markdown",
   "metadata": {},
   "source": [
    "###  7.1.3 순위 \n",
    "- outlier를 처리하는 방법 중 하나로, 변수값 대신 순위를 사용할 수 있다. \n",
    "- 유의사항\n",
    "    - 순위를 사용하려면 전체 변수를 정렬해야한다. 정렬은 연산량이 많고 병렬 처리도 불가능하다.\n",
    "    - 보통 순위는 train + test를 합쳐서 구한다.\n",
    "        - test set의 정보를 사용하는 것"
   ]
  },
  {
   "cell_type": "markdown",
   "metadata": {},
   "source": [
    "### 7.1.4 binning(비닝)\n",
    "- 데이터 전체 순위를 구하는 것보다 단순한 방법\n",
    "- 히스토그램을 그려, 같은 칸에 속하는 데이터끼리 범주화\n",
    "    - ex. 사분위값(quartile)을 기준으로 4개의 범주를 가정하는 방법\n",
    "    - 순위의 단점을 해결할 수 있으나, 데이터의 정밀도가 떨어진다는 단점이 있다.\n",
    "   "
   ]
  },
  {
   "cell_type": "markdown",
   "metadata": {},
   "source": [
    "### 7.1.5 로그함수\n",
    "- 변수의 범위가 크면 로그를 씌워서 범위를 줄여준다. \n",
    "    - 아주 큰 값의 이상치 문제도 부분적으로 해결할 수 있다.\n",
    "- 로그함수에 0이 존재하지 않기에, 데이터에 0이 있다면 \n",
    "    - 1, 0.1 등의 데이터에 영향을 거의 주지 않는 작은 숫자로 대체하거나, 전체 데이터에 1을 더한다.\n"
   ]
  },
  {
   "cell_type": "code",
   "execution_count": null,
   "metadata": {},
   "outputs": [],
   "source": []
  },
  {
   "cell_type": "markdown",
   "metadata": {},
   "source": [
    "## 7.2 데이터 표본 여러 개의 대표값\n",
    "\n",
    "- 다수의 데이터 표본이 동일한 사람이나 동일한 관측치/데이터를 나타내기도 한다.\n",
    "    - ex. 거래기록, 거래마다 데이터 표본이 존재\n",
    "        - 특정 고객에 대한 특징값을 추출하려면 고객이 참여한 거래 기록 여러 개를 하나로 합쳐야 한다.\n",
    "            - columns(열의 개수)\n",
    "            - mean, max, min, median 등\n",
    "            - 특정 기준을 만족하는 열의 개수\n",
    "            - 특정 값과 같은 열의 개수\n",
    "            - 두 열(변수 2개)의 상관계수"
   ]
  },
  {
   "cell_type": "code",
   "execution_count": null,
   "metadata": {},
   "outputs": [],
   "source": []
  },
  {
   "cell_type": "markdown",
   "metadata": {},
   "source": [
    "## 7.3 복잡한 특징값\n",
    "- 이미지 데이터는 PCA(Principal Component Analysis/주성분 분석)로 데이터 간 유사도를 추정할 수 있다.\n",
    "- 데이터 군집화(Clustering)해서 데이터 표본이 속한 군집을 사용하면, 연속 데이터를 범주형 데이터로 바꿀 수 있다.\n",
    "- 문자열 데이터는 단어 출현 빈도를 사용한다.\n",
    "등등\n"
   ]
  },
  {
   "cell_type": "code",
   "execution_count": null,
   "metadata": {},
   "outputs": [],
   "source": []
  },
  {
   "cell_type": "markdown",
   "metadata": {},
   "source": [
    "## 7.4 어떤 특징값을 예측할 지 결정하기\n",
    "- 웹사이트 방문자 트래픽 예측하는 일\n",
    "    - 목적 : 사람 vs 봇인지 판단. \n",
    "        - 데이터 로그 확인\n",
    "            - 봇의 트래픽 걸러내고 정말 사람이 방문한 사이트만 찾아내는 작업\n",
    "            - 구글 트래픽 추정 + 경험\n",
    "\n",
    "- 고객의 서비스 이용행태\n",
    "    - 목적 : 고객의 마음\n",
    "        - 고객의 마음을 예측하기 위해 각종 데이터를 사용\n",
    "            - 제품이 마음에 안들어서 구매를 안하는 것인지 vs 그냥 필요없어서 안하는 것인지 구분 등\n",
    "\n",
    "- 시계열 데이터로 사건의 발생 예측\n",
    "    - 목적 : 사건이 언제 발생할 것인지 알아내는 것이 중요\n",
    "        - 사건이 곧 일어날지 아닐지\n",
    "        - 얼마나 시간이 흘러야 발생할지 예측하는 것을 모델로 만들기\n"
   ]
  },
  {
   "cell_type": "code",
   "execution_count": null,
   "metadata": {},
   "outputs": [],
   "source": []
  },
  {
   "cell_type": "code",
   "execution_count": null,
   "metadata": {},
   "outputs": [],
   "source": []
  }
 ],
 "metadata": {
  "kernelspec": {
   "display_name": "first-learning",
   "language": "python",
   "name": "venv-first-learning"
  },
  "language_info": {
   "codemirror_mode": {
    "name": "ipython",
    "version": 3
   },
   "file_extension": ".py",
   "mimetype": "text/x-python",
   "name": "python",
   "nbconvert_exporter": "python",
   "pygments_lexer": "ipython3",
   "version": "3.6.8"
  }
 },
 "nbformat": 4,
 "nbformat_minor": 2
}
